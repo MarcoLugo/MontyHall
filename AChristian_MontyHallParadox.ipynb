{
 "cells": [
  {
   "cell_type": "code",
   "execution_count": 2,
   "metadata": {},
   "outputs": [],
   "source": [
    "# Code by Andrew Christian: https://blogs.sas.com/content/sgf/2016/10/12/the-monty-hall-paradox-sas-vs-python/\n",
    "# Here for reference and benchmarking purposes\n",
    "\n",
    "import random\n",
    "import pandas as pd\n",
    "import numpy as np\n",
    "import matplotlib.pyplot as plt\n",
    "from itertools import accumulate\n",
    "%matplotlib inline"
   ]
  },
  {
   "cell_type": "code",
   "execution_count": 3,
   "metadata": {},
   "outputs": [
    {
     "name": "stdout",
     "output_type": "stream",
     "text": [
      "4min 36s ± 54.1 s per loop (mean ± std. dev. of 7 runs, 1 loop each)\n"
     ]
    }
   ],
   "source": [
    "%%timeit\n",
    "rawdata = {'index': range(100000)}\n",
    "df = pd.DataFrame(rawdata,columns=['index','prize','choice','reveal','switch','neverswitch','switchwin','neverswitchwin','cumswitch','cumnvrswt'])\n",
    "df = df.fillna(0)\n",
    "\n",
    "prize=[]\n",
    "choice=[]\n",
    "for row in df['index']:\n",
    "    prize.append(random.randint(1,3))\n",
    "    choice.append(random.randint(1,3))   \n",
    "df['prize']=prize\n",
    "df['choice']=choice\n",
    "\n",
    "reveal=[]\n",
    "for i in range(len(df)):\n",
    "    if (df['prize'][i] in (1,2) and df['choice'][i] in (1,2)):\n",
    "        reveal.append(3)\n",
    "    elif (df['prize'][i] in (1,3) and df['choice'][i] in (1,3)):\n",
    "        reveal.append(2)\n",
    "    elif (df['prize'][i] in (2,3) and df['choice'][i] in (2,3)):\n",
    "        reveal.append(1) \n",
    "df['reveal']= reveal\n",
    "\n",
    "switch=[]\n",
    "neverswitch=[]\n",
    "for i in range(len(df)):\n",
    "    if (df['reveal'][i] in (1,3) and df['choice'][i] in (1,3)):\n",
    "        switch.append(2)\n",
    "    elif (df['reveal'][i] in (1,2) and df['choice'][i] in (1,2)):\n",
    "        switch.append(3)\n",
    "    elif (df['reveal'][i] in (2,3) and df['choice'][i] in (2,3)):\n",
    "        switch.append(1) \n",
    "    neverswitch = choice\n",
    "df['switch']=switch\n",
    "df['neverswitch']=neverswitch\n",
    "\n",
    "switchwin=[]\n",
    "neverswitchwin=[]\n",
    "for i in range(len(df)):\n",
    "    if (df['switch'][i]==df['prize'][i]):\n",
    "        switchwin.append(1)\n",
    "    else:\n",
    "        switchwin.append(0)    \n",
    "    if (df['neverswitch'][i]==df['prize'][i]):\n",
    "        neverswitchwin.append(1)\n",
    "    else:\n",
    "        neverswitchwin.append(0)     \n",
    "df['switchwin']=switchwin\n",
    "df['neverswitchwin']=neverswitchwin\n",
    "\n",
    "cumswitch=[]\n",
    "cumnvrswt=[]\n",
    "df['cumswitch']=list(accumulate(df['switchwin']))\n",
    "df['cumnvrswt']=list(accumulate(df['neverswitchwin']))\n",
    "\n",
    "pctswitch=[]\n",
    "pctnever=[]\n",
    "for i in range(len(df)):\n",
    "    pctswitch=df['cumswitch']/(df['index']+1)\n",
    "    pctnever=df['cumnvrswt']/(df['index']+1)\n",
    "df['pctswitch']=pctswitch\n",
    "df['pctnever']=pctnever"
   ]
  },
  {
   "cell_type": "code",
   "execution_count": null,
   "metadata": {},
   "outputs": [],
   "source": [
    "x=df['index']\n",
    "y=df['pctswitch']\n",
    "y2=df['pctnever']\n",
    "fig, ax = plt.subplots(1, 1, figsize=(12, 9))\n",
    "ax.plot(x,y,lw=3, label='Always', color='green')\n",
    "ax.plot(x,y2,lw=3, label='Never',color='blue',alpha=0.5)\n",
    "ax.fill_between(x,y2,y, facecolor='green',alpha=0.6)\n",
    "ax.fill_between(x,0,y2, facecolor='blue',alpha=0.5)\n",
    "ax.set_xlabel(\"Iterations\",size=14)\n",
    "ax.set_ylabel(\"Win Pct\",size=14)\n",
    "ax.legend(loc='best')\n",
    "plt.title(\"Cumulative chances of winning on Let's Make a Deal\", size=16)\n",
    "plt.grid(True)"
   ]
  }
 ],
 "metadata": {
  "kernelspec": {
   "display_name": "Python 3",
   "language": "python",
   "name": "python3"
  },
  "language_info": {
   "codemirror_mode": {
    "name": "ipython",
    "version": 3
   },
   "file_extension": ".py",
   "mimetype": "text/x-python",
   "name": "python",
   "nbconvert_exporter": "python",
   "pygments_lexer": "ipython3",
   "version": "3.6.6"
  }
 },
 "nbformat": 4,
 "nbformat_minor": 2
}
