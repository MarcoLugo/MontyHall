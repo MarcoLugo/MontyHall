{
 "cells": [
  {
   "cell_type": "code",
   "execution_count": 1,
   "metadata": {},
   "outputs": [
    {
     "name": "stderr",
     "output_type": "stream",
     "text": [
      "/usr/lib/python3.6/importlib/_bootstrap.py:219: RuntimeWarning: numpy.dtype size changed, may indicate binary incompatibility. Expected 96, got 88\n",
      "  return f(*args, **kwds)\n",
      "/usr/lib/python3.6/importlib/_bootstrap.py:219: RuntimeWarning: numpy.dtype size changed, may indicate binary incompatibility. Expected 96, got 88\n",
      "  return f(*args, **kwds)\n"
     ]
    }
   ],
   "source": [
    "# Code by Zangror: \n",
    "#    https://blogs.sas.com/content/sgf/2016/10/12/the-monty-hall-paradox-sas-vs-python/\n",
    "#    https://0bin.net/paste/lLtXYs+6YCDzFC7T#Ez6Q4F9R0AlT1WdzUk7GJ7DmmQt6S6O2QJvJs9vfPFD\n",
    "# Here for reference and benchmarking purposes\n",
    "\n",
    "import pandas as pd\n",
    "import numpy as np\n",
    "import matplotlib.pyplot as plt"
   ]
  },
  {
   "cell_type": "code",
   "execution_count": 2,
   "metadata": {},
   "outputs": [
    {
     "name": "stdout",
     "output_type": "stream",
     "text": [
      "8.57 s ± 26.4 ms per loop (mean ± std. dev. of 7 runs, 1 loop each)\n"
     ]
    }
   ],
   "source": [
    "%%timeit\n",
    "# Create the data frame\n",
    "df = pd.DataFrame.from_dict({\n",
    "    'door_with_prize': np.random.randint(1, 4, 100000),\n",
    "    'door_choice': np.random.randint(1, 4, 100000)\n",
    "})\n",
    " \n",
    "# Reveal the door\n",
    "def reveal_door_function(row):\n",
    "    choices = tuple({1, 2, 3} - {row['door_with_prize'], row['door_choice']})\n",
    "    return int(np.random.choice(choices))\n",
    " \n",
    "df['revealed_door'] = df.apply(reveal_door_function, axis=1)\n",
    " \n",
    "# Make the not switch strategy\n",
    "df['never_switch_strategy'] = df['door_choice']\n",
    "# Make the switch strategy\n",
    "def switch_function(row):\n",
    "    return tuple({1, 2, 3} - {row['revealed_door'], row['door_choice']})[0]\n",
    "df['switch_strategy'] = df.apply(switch_function, axis=1)\n",
    " \n",
    "# Now compute when the switch or the non switch strategy win\n",
    "df['never_switch_strategy_win'] = (df['never_switch_strategy'] == df['door_with_prize']).astype(int)\n",
    "df['switch_strategy_win'] = (df['switch_strategy'] == df['door_with_prize']).astype(int)\n",
    " \n",
    "# Do a cumulative sum of the strategies\n",
    "df['cum_never_switch_win'] = df['never_switch_strategy_win'].cumsum()\n",
    "df['cum_switch_win'] = df['switch_strategy_win'].cumsum()\n",
    " \n",
    "# Divide by the number of observations for a win percentage\n",
    "df['percentage_never_switch_win'] = df['cum_never_switch_win'] / (df.index + 1)\n",
    "df['percentage_switch_win'] = df['cum_switch_win'] / (df.index + 1)"
   ]
  },
  {
   "cell_type": "code",
   "execution_count": null,
   "metadata": {},
   "outputs": [],
   "source": [
    "axis = df[['percentage_switch_win', 'percentage_never_switch_win']].plot.area(stacked=False)\n",
    "axis.set_xlabel(\"Iterations\", size=14)\n",
    "axis.set_ylabel(\"Win Pct\",  size=14)\n",
    "plt.title(\"Cumulative chances of winning on Let's Make a Deal\", size=16)\n",
    "plt.grid(True)"
   ]
  }
 ],
 "metadata": {
  "kernelspec": {
   "display_name": "Python 3",
   "language": "python",
   "name": "python3"
  },
  "language_info": {
   "codemirror_mode": {
    "name": "ipython",
    "version": 3
   },
   "file_extension": ".py",
   "mimetype": "text/x-python",
   "name": "python",
   "nbconvert_exporter": "python",
   "pygments_lexer": "ipython3",
   "version": "3.6.6"
  }
 },
 "nbformat": 4,
 "nbformat_minor": 2
}
